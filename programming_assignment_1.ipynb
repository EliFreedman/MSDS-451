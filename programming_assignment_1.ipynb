{
 "cells": [
  {
   "cell_type": "markdown",
   "id": "a1910015",
   "metadata": {},
   "source": [
    "<h2><font color='#306998'><center>451 Financial Engineering: Programming Assignment 1</center></font></h2>\n",
    "<h3><center>Eli Freedman, October 5, 2025</center></h3>"
   ]
  },
  {
   "cell_type": "markdown",
   "id": "cb6549e3",
   "metadata": {},
   "source": [
    "# Overview\n",
    "\n",
    "The Broken Hill Proprietary Company Limited, commonly known as BHP, was founded in 1885 in Broken Hill, New South Wales, after the discovery of one of the world’s richest silver, lead, and zinc deposits. Originally established as a mining company, BHP quickly grew into a major player in Australia’s industrial development, expanding into steel production in the early 20th century with operations in Newcastle and later Whyalla and Port Kembla. Over time, the company diversified into coal, petroleum, iron ore, and copper, becoming one of the world’s largest resource companies. In 2001, BHP merged with the Anglo-Dutch mining company Billiton, forming BHP Billiton, before simplifying its name back to BHP in 2017. Today, BHP is a global leader in natural resources, headquartered in Melbourne, Australia, with operations across multiple continents.\n",
    "\n",
    "This analysis investigates predicting the direction of the price of the stock using stock data sourced from Yahoo! as well as several engineered features.\n",
    "\n",
    "**Disclaimer**: The majority of the code below is sourced from Professor Thomas W. Miller's jumpstart code for Programming Assignment 1. Alterations were made where necessary to work specifically with data relating to $BHP, and additions were added where required."
   ]
  },
  {
   "cell_type": "markdown",
   "id": "78d63e44",
   "metadata": {},
   "source": [
    "# Imports"
   ]
  },
  {
   "cell_type": "code",
   "execution_count": 1,
   "id": "7c0abec9",
   "metadata": {},
   "outputs": [],
   "source": [
    "# Ignore warnings\n",
    "import warnings\n",
    "warnings.filterwarnings('ignore')\n",
    "warnings.simplefilter(action='ignore', category=FutureWarning)\n",
    "\n",
    "# Import Python Packages for data manipulation, data pipelines, and databases\n",
    "import numpy as np\n",
    "import pyarrow # foundation for polars\n",
    "import polars as pl # DataFrame work superior to Pandas\n",
    "\n",
    "# Plotting\n",
    "import matplotlib.pyplot as plt\n",
    "# Display static plots directly in the notebook output \n",
    "%matplotlib inline\n",
    "# create stylized visualizations, including heat maps\n",
    "import seaborn as sns\n",
    "\n",
    "# Preprocessing\n",
    "from sklearn.preprocessing import StandardScaler\n",
    "from sklearn.model_selection import (RandomizedSearchCV, \n",
    "                                    TimeSeriesSplit)\n",
    "from sklearn.model_selection import cross_validate\n",
    "\n",
    "# needed for randomized search\n",
    "from sklearn.model_selection import RandomizedSearchCV\n",
    "from scipy.stats import randint, uniform\n",
    "\n",
    "# metrics in xgboost tuning and final model evaluation\n",
    "from sklearn.metrics import (classification_report,\n",
    "                             RocCurveDisplay,\n",
    "                             ConfusionMatrixDisplay,\n",
    "                             confusion_matrix\n",
    "                            )\n",
    "\n",
    "# XGBoost Package... more complete than SciKit-Learn boosting methods\n",
    "import xgboost as xgb\n",
    "from xgboost import XGBClassifier\n",
    "\n",
    "import yfinance as yf"
   ]
  },
  {
   "cell_type": "markdown",
   "id": "045b28d0",
   "metadata": {},
   "source": [
    "# Data Ingestion"
   ]
  },
  {
   "cell_type": "code",
   "execution_count": 2,
   "id": "715a867a",
   "metadata": {},
   "outputs": [
    {
     "name": "stdout",
     "output_type": "stream",
     "text": [
      "                                Open       High  ...  Dividends  Stock Splits\n",
      "Date                                             ...                         \n",
      "2000-01-03 00:00:00-05:00   3.129319   3.129319  ...        0.0           0.0\n",
      "2000-01-04 00:00:00-05:00   3.188224   3.188224  ...        0.0           0.0\n",
      "2000-01-05 00:00:00-05:00   3.151409   3.195587  ...        0.0           0.0\n",
      "2000-01-06 00:00:00-05:00   3.166135   3.180861  ...        0.0           0.0\n",
      "2000-01-07 00:00:00-05:00   3.239765   3.357575  ...        0.0           0.0\n",
      "...                              ...        ...  ...        ...           ...\n",
      "2025-09-23 00:00:00-04:00  53.419998  53.599998  ...        0.0           0.0\n",
      "2025-09-24 00:00:00-04:00  53.410000  53.770000  ...        0.0           0.0\n",
      "2025-09-25 00:00:00-04:00  54.900002  55.730000  ...        0.0           0.0\n",
      "2025-09-26 00:00:00-04:00  54.990002  55.090000  ...        0.0           0.0\n",
      "2025-09-29 00:00:00-04:00  55.549999  56.500000  ...        0.0           0.0\n",
      "\n",
      "[6474 rows x 7 columns]\n",
      "type of historical_data <class 'pandas.core.frame.DataFrame'>\n"
     ]
    }
   ],
   "source": [
    "symbol = 'BHP'\n",
    "start_date = '2000-01-01'\n",
    "end_date = '2025-09-30'\n",
    "\n",
    "ticker = yf.Ticker(symbol)\n",
    "historical_data = ticker.history(start = start_date, end = end_date)\n",
    "print(historical_data)\n",
    "\n",
    "print(\"type of historical_data\", type(historical_data))\n",
    "\n",
    "historical_data.to_csv(\"bhp_historical_data.csv\")"
   ]
  },
  {
   "cell_type": "markdown",
   "id": "3ba8ae6a",
   "metadata": {},
   "source": [
    "# Feature Engineering"
   ]
  },
  {
   "cell_type": "markdown",
   "id": "c8c92300",
   "metadata": {},
   "source": [
    "Here, I added two additional features on top of the features developed by Professor Miller.\n",
    "\n",
    "1. CloseSMA5: A 5-day simple moving average of lagged closing prices, representing a short-term price trend.\n",
    "2. Normalized Volume (NormVolumeLag1): Yesterday’s volume divided by its 5-day rolling average, highlighting unusual trading activity relative to recent norms."
   ]
  },
  {
   "cell_type": "code",
   "execution_count": 3,
   "id": "03e9e634",
   "metadata": {},
   "outputs": [
    {
     "name": "stdout",
     "output_type": "stream",
     "text": [
      "Schema({'Date': Datetime(time_unit='us', time_zone='UTC'), 'Open': Float64, 'High': Float64, 'Low': Float64, 'Close': Float64, 'Volume': Int64, 'Dividends': Float64, 'Stock Splits': Float64})\n",
      "Schema({'Date': Datetime(time_unit='us', time_zone='UTC'), 'Open': Float64, 'High': Float64, 'Low': Float64, 'Close': Float64, 'Volume': Float64, 'CloseLag1': Float64, 'CloseLag2': Float64, 'CloseLag3': Float64, 'HML': Float64, 'HMLLag1': Float64, 'HMLLag2': Float64, 'HMLLag3': Float64, 'OMC': Float64, 'OMCLag1': Float64, 'OMCLag2': Float64, 'OMCLag3': Float64, 'VolumeLag1': Float64, 'VolumeLag2': Float64, 'VolumeLag3': Float64, 'CloseEMA2': Float64, 'CloseEMA4': Float64, 'CloseEMA8': Float64, 'LogReturn': Float64, 'CloseSMA5': Float64, 'NormVolumeLag1': Float64, 'Target': Int32})\n"
     ]
    }
   ],
   "source": [
    "bhp = pl.read_csv(\"bhp_historical_data.csv\", try_parse_dates=True)\n",
    "\n",
    "# check the original schema\n",
    "print(bhp.schema)\n",
    "\n",
    "# drop useless columns Dividends and Stock Splits\n",
    "bhp = bhp.drop(['Dividends', 'Stock Splits'])\n",
    "\n",
    "# create lag price features\n",
    "bhp = bhp.with_columns((pl.col('Close')).shift().alias('CloseLag1'))\n",
    "bhp = bhp.with_columns((pl.col('CloseLag1')).shift().alias('CloseLag2'))\n",
    "bhp = bhp.with_columns((pl.col('CloseLag2')).shift().alias('CloseLag3'))\n",
    "\n",
    "# create high-minus-low (HML) for day and its lags\n",
    "bhp = bhp.with_columns((pl.col('High') - pl.col('Low')).alias('HML'))\n",
    "bhp = bhp.with_columns((pl.col('HML')).shift().alias('HMLLag1'))\n",
    "bhp = bhp.with_columns((pl.col('HMLLag1')).shift().alias('HMLLag2'))\n",
    "bhp = bhp.with_columns((pl.col('HMLLag2')).shift().alias('HMLLag3'))\n",
    "\n",
    "# create a net change for the day as the open minus closing price OMC\n",
    "# also create the corresponding lag metrics\n",
    "bhp = bhp.with_columns((pl.col('Open') - pl.col('Close')).alias('OMC'))\n",
    "bhp = bhp.with_columns((pl.col('OMC')).shift().alias('OMCLag1'))\n",
    "bhp = bhp.with_columns((pl.col('OMCLag1')).shift().alias('OMCLag2'))\n",
    "bhp = bhp.with_columns((pl.col('OMCLag2')).shift().alias('OMCLag3'))\n",
    "\n",
    "# create volume lag metrics\n",
    "bhp = bhp.with_columns((pl.col('Volume')).shift().alias('VolumeLag1'))\n",
    "bhp = bhp.with_columns((pl.col('VolumeLag1')).shift().alias('VolumeLag2'))\n",
    "bhp = bhp.with_columns((pl.col('VolumeLag2')).shift().alias('VolumeLag3'))\n",
    "\n",
    "# compute 10-day exponential moving averages of closing prices\n",
    "# compute acround CloseLag1 to avoid any \"leakage\" in explanatory variable set\n",
    "# note also the 10-day buffer between train and test in time-series cross-validation\n",
    "bhp = bhp.with_columns((pl.col('CloseLag1').ewm_mean(half_life=1,ignore_nulls=True)).alias('CloseEMA2'))\n",
    "bhp = bhp.with_columns((pl.col('CloseLag1').ewm_mean(half_life=2,ignore_nulls=True)).alias('CloseEMA4'))\n",
    "bhp = bhp.with_columns((pl.col('CloseLag1').ewm_mean(half_life=4,ignore_nulls=True)).alias('CloseEMA8'))\n",
    "\n",
    "# log daily returns\n",
    "bhp = bhp.with_columns(np.log(pl.col('Close')/pl.col('CloseLag1')).alias('LogReturn'))\n",
    "\n",
    "# set volume features to Float64 for subsequent use in Numpy arrays\n",
    "bhp = bhp.with_columns(\n",
    "    pl.col('Volume').cast(pl.Float64).round(0),\n",
    "    pl.col('VolumeLag1').cast(pl.Float64).round(0),\n",
    "    pl.col('VolumeLag2').cast(pl.Float64).round(0),\n",
    "    pl.col('VolumeLag3').cast(pl.Float64).round(0),\n",
    "    )\n",
    "\n",
    "# rolling 5-day mean of lagged close (safe, since it only uses lagged closes)\n",
    "bhp = bhp.with_columns(pl.col('CloseLag1').rolling_mean(window_size=5).alias('CloseSMA5'))\n",
    "\n",
    "# normalized volume using only lagged volume\n",
    "bhp = bhp.with_columns((pl.col('VolumeLag1') / pl.col('VolumeLag1').rolling_mean(window_size=5)).alias('NormVolumeLag1'))\n",
    "\n",
    "# round other features to three decimal places for reporting and subsequent analytics\n",
    "bhp = bhp.with_columns(\n",
    "    pl.col('Open').round(3),\n",
    "    pl.col('High').round(3),    \n",
    "    pl.col('Low').round(3),\n",
    "    pl.col('Close').round(3),      \n",
    "    pl.col('CloseLag1').round(3),\n",
    "    pl.col('CloseLag2').round(3),  \n",
    "    pl.col('CloseLag3').round(3),\n",
    "    pl.col('HML').round(3),  \n",
    "    pl.col('HMLLag1').round(3),\n",
    "    pl.col('HMLLag2').round(3),  \n",
    "    pl.col('HMLLag3').round(3),\n",
    "    pl.col('OMC').round(3),  \n",
    "    pl.col('OMCLag1').round(3),\n",
    "    pl.col('OMCLag2').round(3),  \n",
    "    pl.col('OMCLag3').round(3), \n",
    "    pl.col('CloseEMA2').round(3),\n",
    "    pl.col('CloseEMA4').round(3), \n",
    "    pl.col('CloseEMA8').round(3),\n",
    "    pl.col('CloseSMA5').round(3),\n",
    "    pl.col('NormVolumeLag1').round(3)\n",
    ")\n",
    "    \n",
    "# define binary target/response 1 = market price up since previous day, 0 = even or down \n",
    "bhp = bhp.with_columns(pl.when(pl.col('LogReturn')>0.0).then(pl.lit(1)).otherwise(pl.lit(0)).alias('Target'))\n",
    "\n",
    "print(bhp.schema)\n",
    "\n",
    "# save to external comma-delimited text file for checking calculations in Excel\n",
    "bhp.write_csv(\"bhp-with-computed-features.csv\")"
   ]
  },
  {
   "cell_type": "markdown",
   "id": "ebe1e90e",
   "metadata": {},
   "source": [
    "# Exploratory Data Analysis"
   ]
  },
  {
   "cell_type": "code",
   "execution_count": 5,
   "id": "1675e260",
   "metadata": {},
   "outputs": [
    {
     "name": "stdout",
     "output_type": "stream",
     "text": [
      "['statistic', 'Open', 'High', 'Low', 'Close', 'Volume', 'CloseLag1', 'CloseLag2', 'CloseLag3', 'HML', 'HMLLag1', 'HMLLag2', 'HMLLag3', 'OMC', 'OMCLag1', 'OMCLag2', 'OMCLag3', 'VolumeLag1', 'VolumeLag2', 'VolumeLag3', 'CloseEMA2', 'CloseEMA4', 'CloseEMA8', 'LogReturn', 'CloseSMA5', 'NormVolumeLag1', 'Target']\n",
      "Schema({'column': String, 'column_0': String, 'column_2': String, 'column_3': String, 'column_4': String, 'column_6': String, 'column_8': String})\n",
      "┌────────────────┬──────────┬───────────────────────┬──────────────────────┬──────────────────────┬───────────────────────┬─────────────────────┐\n",
      "│ column         ┆ column_0 ┆ column_2              ┆ column_3             ┆ column_4             ┆ column_6              ┆ column_8            │\n",
      "╞════════════════╪══════════╪═══════════════════════╪══════════════════════╪══════════════════════╪═══════════════════════╪═════════════════════╡\n",
      "│ statistic      ┆ count    ┆ mean                  ┆ std                  ┆ min                  ┆ 50%                   ┆ max                 │\n",
      "│ Open           ┆ 6469.0   ┆ 24.961109908795798    ┆ 15.77214873520883    ┆ 1.993                ┆ 25.463                ┆ 64.008              │\n",
      "│ High           ┆ 6469.0   ┆ 25.193957334982223    ┆ 15.888011979113617   ┆ 2.111                ┆ 25.702                ┆ 64.259              │\n",
      "│ Low            ┆ 6469.0   ┆ 24.724085639202347    ┆ 15.652322930322956   ┆ 1.944                ┆ 25.143                ┆ 63.766              │\n",
      "│ Close          ┆ 6469.0   ┆ 24.97088143453393     ┆ 15.780154361728284   ┆ 2.039                ┆ 25.413                ┆ 64.054              │\n",
      "│ Volume         ┆ 6469.0   ┆ 2909629.9970629155    ┆ 2194194.85643551     ┆ 11967.0              ┆ 2606773.0             ┆ 22855281.0          │\n",
      "│ CloseLag1      ┆ 6469.0   ┆ 24.962709846962433    ┆ 15.777656649988693   ┆ 2.039                ┆ 25.409                ┆ 64.054              │\n",
      "│ CloseLag2      ┆ 6469.0   ┆ 24.954733961972483    ┆ 15.775642592464719   ┆ 2.039                ┆ 25.402                ┆ 64.054              │\n",
      "│ CloseLag3      ┆ 6469.0   ┆ 24.946619261091357    ┆ 15.773331297224559   ┆ 2.039                ┆ 25.391                ┆ 64.054              │\n",
      "│ HML            ┆ 6469.0   ┆ 0.4698669036945432    ┆ 0.3682300351022496   ┆ 0.009                ┆ 0.397                 ┆ 3.83                │\n",
      "│ HMLLag1        ┆ 6469.0   ┆ 0.4697151027979596    ┆ 0.368172633578361    ┆ 0.009                ┆ 0.397                 ┆ 3.83                │\n",
      "│ HMLLag2        ┆ 6469.0   ┆ 0.46965543360643075   ┆ 0.3682054860914821   ┆ 0.009                ┆ 0.397                 ┆ 3.83                │\n",
      "│ HMLLag3        ┆ 6469.0   ┆ 0.46951847271603037   ┆ 0.36818784677618616  ┆ 0.009                ┆ 0.397                 ┆ 3.83                │\n",
      "│ OMC            ┆ 6469.0   ┆ -0.00976163240068017  ┆ 0.3532727870867442   ┆ -3.52                ┆ -0.006                ┆ 3.08                │\n",
      "│ OMCLag1        ┆ 6469.0   ┆ -0.009676302365126004 ┆ 0.3531799407218885   ┆ -3.52                ┆ -0.006                ┆ 3.08                │\n",
      "│ OMCLag2        ┆ 6469.0   ┆ -0.00971154737981142  ┆ 0.3531653988876333   ┆ -3.52                ┆ -0.006                ┆ 3.08                │\n",
      "│ OMCLag3        ┆ 6469.0   ┆ -0.009596228165095064 ┆ 0.3530323423974031   ┆ -3.52                ┆ -0.006                ┆ 3.08                │\n",
      "│ VolumeLag1     ┆ 6469.0   ┆ 2909050.097851291     ┆ 2194390.668821255    ┆ 11967.0              ┆ 2606453.0             ┆ 22855281.0          │\n",
      "│ VolumeLag2     ┆ 6469.0   ┆ 2908587.794249498     ┆ 2194678.295510749    ┆ 11967.0              ┆ 2606101.0             ┆ 22855281.0          │\n",
      "│ VolumeLag3     ┆ 6469.0   ┆ 2907868.6266810945    ┆ 2194792.140664899    ┆ 11967.0              ┆ 2605989.0             ┆ 22855281.0          │\n",
      "│ CloseEMA2      ┆ 6469.0   ┆ 24.954755139897973    ┆ 15.76819862213097    ┆ 2.107                ┆ 25.417                ┆ 63.679              │\n",
      "│ CloseEMA4      ┆ 6469.0   ┆ 24.943666872777868    ┆ 15.757405807949462   ┆ 2.162                ┆ 25.432                ┆ 63.274              │\n",
      "│ CloseEMA8      ┆ 6469.0   ┆ 24.921179625908174    ┆ 15.737101716778389   ┆ 2.234                ┆ 25.458                ┆ 62.427              │\n",
      "│ LogReturn      ┆ 6469.0   ┆ 0.0004356243032814293 ┆ 0.023245976858262376 ┆ -0.18813317594552686 ┆ 0.0009925174479854689 ┆ 0.16820950615174352 │\n",
      "│ CloseSMA5      ┆ 6469.0   ┆ 24.946790848662854    ┆ 15.764693907178023   ┆ 2.097                ┆ 25.389                ┆ 63.589              │\n",
      "│ NormVolumeLag1 ┆ 6469.0   ┆ 1.0053445663935694    ┆ 0.3387770808015556   ┆ 0.095                ┆ 0.967                 ┆ 3.981               │\n",
      "│ Target         ┆ 6469.0   ┆ 0.5163085484618952    ┆ 0.499772590235521    ┆ 0.0                  ┆ 1.0                   ┆ 1.0                 │\n",
      "└────────────────┴──────────┴───────────────────────┴──────────────────────┴──────────────────────┴───────────────────────┴─────────────────────┘\n"
     ]
    }
   ],
   "source": [
    "# Drop the rows with null values such as the initial lag rows\n",
    "bhp = bhp.drop_nulls()\n",
    "\n",
    "# Descriptive statistics\n",
    "bhpStatistics = bhp.drop('Date').describe()\n",
    "\n",
    "print(bhpStatistics.columns)\n",
    "\n",
    "bhpStatisticsToPrint = bhpStatistics.transpose(include_header=True).drop(['column_1', 'column_5', 'column_7'])\n",
    "\n",
    "print(bhpStatisticsToPrint.schema)\n",
    "\n",
    "with pl.Config(\n",
    "    tbl_rows = 60,\n",
    "    tbl_width_chars = 200,\n",
    "    tbl_cols = -1,\n",
    "    float_precision = 3,\n",
    "    tbl_hide_dataframe_shape = True,\n",
    "    tbl_hide_column_data_types = True):\n",
    "    print(bhpStatisticsToPrint)\n"
   ]
  },
  {
   "cell_type": "code",
   "execution_count": 6,
   "id": "38b2723d",
   "metadata": {},
   "outputs": [
    {
     "data": {
      "text/html": [
       "<div><style>\n",
       ".dataframe > thead > tr,\n",
       ".dataframe > tbody > tr {\n",
       "  text-align: right;\n",
       "  white-space: pre-wrap;\n",
       "}\n",
       "</style>\n",
       "<small>shape: (5, 17)</small><table border=\"1\" class=\"dataframe\"><thead><tr><th>CloseLag1</th><th>CloseLag2</th><th>CloseLag3</th><th>HMLLag1</th><th>HMLLag2</th><th>HMLLag3</th><th>OMCLag1</th><th>OMCLag2</th><th>OMCLag3</th><th>VolumeLag1</th><th>VolumeLag2</th><th>VolumeLag3</th><th>CloseEMA2</th><th>CloseEMA4</th><th>CloseEMA8</th><th>CloseSMA5</th><th>NormVolumeLag1</th></tr><tr><td>f64</td><td>f64</td><td>f64</td><td>f64</td><td>f64</td><td>f64</td><td>f64</td><td>f64</td><td>f64</td><td>f64</td><td>f64</td><td>f64</td><td>f64</td><td>f64</td><td>f64</td><td>f64</td><td>f64</td></tr></thead><tbody><tr><td>3.358</td><td>3.144</td><td>3.196</td><td>0.118</td><td>0.074</td><td>0.074</td><td>-0.118</td><td>0.022</td><td>-0.044</td><td>292832.0</td><td>48358.0</td><td>234705.0</td><td>3.259</td><td>3.223</td><td>3.202</td><td>3.181</td><td>1.937</td></tr><tr><td>3.328</td><td>3.358</td><td>3.144</td><td>0.052</td><td>0.118</td><td>0.074</td><td>0.0</td><td>-0.118</td><td>0.022</td><td>101844.0</td><td>292832.0</td><td>48358.0</td><td>3.294</td><td>3.258</td><td>3.233</td><td>3.237</td><td>0.645</td></tr><tr><td>3.181</td><td>3.328</td><td>3.358</td><td>0.066</td><td>0.052</td><td>0.118</td><td>0.029</td><td>0.0</td><td>-0.118</td><td>66431.0</td><td>101844.0</td><td>292832.0</td><td>3.237</td><td>3.233</td><td>3.221</td><td>3.241</td><td>0.446</td></tr><tr><td>3.188</td><td>3.181</td><td>3.328</td><td>0.059</td><td>0.066</td><td>0.052</td><td>0.007</td><td>0.029</td><td>0.0</td><td>158017.0</td><td>66431.0</td><td>101844.0</td><td>3.213</td><td>3.219</td><td>3.214</td><td>3.24</td><td>1.184</td></tr><tr><td>3.21</td><td>3.188</td><td>3.181</td><td>0.052</td><td>0.059</td><td>0.066</td><td>0.007</td><td>0.007</td><td>0.029</td><td>90365.0</td><td>158017.0</td><td>66431.0</td><td>3.211</td><td>3.216</td><td>3.213</td><td>3.253</td><td>0.637</td></tr></tbody></table></div>"
      ],
      "text/plain": [
       "shape: (5, 17)\n",
       "┌───────────┬───────────┬───────────┬─────────┬───┬───────────┬───────────┬───────────┬────────────┐\n",
       "│ CloseLag1 ┆ CloseLag2 ┆ CloseLag3 ┆ HMLLag1 ┆ … ┆ CloseEMA4 ┆ CloseEMA8 ┆ CloseSMA5 ┆ NormVolume │\n",
       "│ ---       ┆ ---       ┆ ---       ┆ ---     ┆   ┆ ---       ┆ ---       ┆ ---       ┆ Lag1       │\n",
       "│ f64       ┆ f64       ┆ f64       ┆ f64     ┆   ┆ f64       ┆ f64       ┆ f64       ┆ ---        │\n",
       "│           ┆           ┆           ┆         ┆   ┆           ┆           ┆           ┆ f64        │\n",
       "╞═══════════╪═══════════╪═══════════╪═════════╪═══╪═══════════╪═══════════╪═══════════╪════════════╡\n",
       "│ 3.358     ┆ 3.144     ┆ 3.196     ┆ 0.118   ┆ … ┆ 3.223     ┆ 3.202     ┆ 3.181     ┆ 1.937      │\n",
       "│ 3.328     ┆ 3.358     ┆ 3.144     ┆ 0.052   ┆ … ┆ 3.258     ┆ 3.233     ┆ 3.237     ┆ 0.645      │\n",
       "│ 3.181     ┆ 3.328     ┆ 3.358     ┆ 0.066   ┆ … ┆ 3.233     ┆ 3.221     ┆ 3.241     ┆ 0.446      │\n",
       "│ 3.188     ┆ 3.181     ┆ 3.328     ┆ 0.059   ┆ … ┆ 3.219     ┆ 3.214     ┆ 3.24      ┆ 1.184      │\n",
       "│ 3.21      ┆ 3.188     ┆ 3.181     ┆ 0.052   ┆ … ┆ 3.216     ┆ 3.213     ┆ 3.253     ┆ 0.637      │\n",
       "└───────────┴───────────┴───────────┴─────────┴───┴───────────┴───────────┴───────────┴────────────┘"
      ]
     },
     "execution_count": 6,
     "metadata": {},
     "output_type": "execute_result"
    }
   ],
   "source": [
    "# Select Features for the Model, exclude current day price variables ... no \"leakage\"\n",
    "# note for moving averages, we have excluded the current day, and provide a 10-day gap\n",
    "# so these may be included in the set \n",
    "X = bhp.drop(['Date', 'LogReturn', 'Target', 'Open', 'High', 'Low', 'Close', 'Volume', 'HML', 'OMC'])\n",
    "X.head()"
   ]
  },
  {
   "cell_type": "code",
   "execution_count": 7,
   "id": "da41b4f9",
   "metadata": {},
   "outputs": [
    {
     "name": "stdout",
     "output_type": "stream",
     "text": [
      "shape: (9, 2)\n",
      "┌────────────┬───────────┐\n",
      "│ statistic  ┆ value     │\n",
      "│ ---        ┆ ---       │\n",
      "│ str        ┆ f64       │\n",
      "╞════════════╪═══════════╡\n",
      "│ count      ┆ 6469.0    │\n",
      "│ null_count ┆ 0.0       │\n",
      "│ mean       ┆ 0.000436  │\n",
      "│ std        ┆ 0.023246  │\n",
      "│ min        ┆ -0.188133 │\n",
      "│ 25%        ┆ -0.011462 │\n",
      "│ 50%        ┆ 0.000993  │\n",
      "│ 75%        ┆ 0.013085  │\n",
      "│ max        ┆ 0.16821   │\n",
      "└────────────┴───────────┘\n"
     ]
    }
   ],
   "source": [
    "# Define and examine the target for regression model development\n",
    "print(bhp['LogReturn'].describe())\n",
    "\n",
    "y = np.array(bhp['LogReturn'])"
   ]
  },
  {
   "cell_type": "markdown",
   "id": "0ed09256",
   "metadata": {},
   "source": [
    "# Feature Normalization"
   ]
  },
  {
   "cell_type": "code",
   "execution_count": 8,
   "id": "d2b4d0f3",
   "metadata": {},
   "outputs": [
    {
     "name": "stdout",
     "output_type": "stream",
     "text": [
      "Feature names correspond to Numpy array columns: ['CloseLag1', 'CloseLag2', 'CloseLag3', 'HMLLag1', 'HMLLag2', 'HMLLag3', 'OMCLag1', 'OMCLag2', 'OMCLag3', 'VolumeLag1', 'VolumeLag2', 'VolumeLag3', 'CloseEMA2', 'CloseEMA4', 'CloseEMA8', 'CloseSMA5', 'NormVolumeLag1']\n"
     ]
    }
   ],
   "source": [
    "# Standardize features\n",
    "featureNames = X.columns\n",
    "print(\"Feature names correspond to Numpy array columns:\",featureNames)\n",
    "scaler = StandardScaler()\n",
    "X = scaler.fit_transform(np.array(X))"
   ]
  },
  {
   "cell_type": "markdown",
   "id": "5804a8d9",
   "metadata": {},
   "source": [
    "# Feature Selection"
   ]
  },
  {
   "cell_type": "code",
   "execution_count": 15,
   "id": "d8599b56",
   "metadata": {},
   "outputs": [
    {
     "name": "stdout",
     "output_type": "stream",
     "text": [
      "shape: (2, 2)\n",
      "┌────────┬───────┐\n",
      "│ Target ┆ count │\n",
      "│ ---    ┆ ---   │\n",
      "│ i32    ┆ u32   │\n",
      "╞════════╪═══════╡\n",
      "│ 0      ┆ 3129  │\n",
      "│ 1      ┆ 3340  │\n",
      "└────────┴───────┘\n"
     ]
    }
   ],
   "source": [
    "# Define and examine the target for classification model development\n",
    "print(bhp['Target'].value_counts())\n",
    "\n",
    "y = np.array(bhp['Target'])"
   ]
  },
  {
   "cell_type": "code",
   "execution_count": 16,
   "id": "3e60de92",
   "metadata": {},
   "outputs": [],
   "source": [
    "# select all features\n",
    "X = bhp.select('CloseLag1', 'CloseLag2', 'CloseLag3', 'HMLLag1', 'HMLLag2', 'HMLLag3', 'OMCLag1', 'OMCLag2', 'OMCLag3', 'VolumeLag1', 'VolumeLag2', 'VolumeLag3', 'CloseEMA2', 'CloseEMA4', 'CloseEMA8', 'CloseSMA5', 'NormVolumeLag1')"
   ]
  },
  {
   "cell_type": "code",
   "execution_count": 17,
   "id": "3e10a5f6",
   "metadata": {},
   "outputs": [
    {
     "name": "stdout",
     "output_type": "stream",
     "text": [
      "type(all_splits): <class 'list'>  outer list length 5\n",
      "\n",
      "train_0 has 1069 with indices from  0 to 1068\n",
      "test_0 has 1078 with indices from  1079 to 2156\n",
      "\n",
      "train_1 has 2147 with indices from  0 to 2146\n",
      "test_1 has 1078 with indices from  2157 to 3234\n",
      "\n",
      "train_2 has 3225 with indices from  0 to 3224\n",
      "test_2 has 1078 with indices from  3235 to 4312\n",
      "\n",
      "train_3 has 4303 with indices from  0 to 4302\n",
      "test_3 has 1078 with indices from  4313 to 5390\n",
      "\n",
      "train_4 has 5381 with indices from  0 to 5380\n",
      "test_4 has 1078 with indices from  5391 to 6468\n"
     ]
    }
   ],
   "source": [
    "# Splitting the datasets into train and test sets\n",
    "# gap is the number of samples to exclude from \n",
    "# the end of each train set and before the next test set.\n",
    "tscv = TimeSeriesSplit(gap=10, n_splits=5)\n",
    "\n",
    "all_splits = list(tscv.split(X, y))\n",
    "train_0, test_0 = all_splits[0]\n",
    "train_1, test_1 = all_splits[1]\n",
    "train_2, test_2 = all_splits[2]\n",
    "train_3, test_3 = all_splits[3]\n",
    "train_4, test_4 = all_splits[4]\n",
    "\n",
    "# examine the objects created for cross-validation splits\n",
    "print(\"type(all_splits):\", type(all_splits), \" outer list length\", len(all_splits))\n",
    "print()\n",
    "print(\"train_0 has\",len(train_0),\"with indices from \",min(train_0),\"to\",max(train_0))\n",
    "print(\"test_0 has\",len(test_0),\"with indices from \",min(test_0),\"to\",max(test_0))\n",
    "print()\n",
    "print(\"train_1 has\",len(train_1),\"with indices from \",min(train_1),\"to\",max(train_1))\n",
    "print(\"test_1 has\",len(test_1),\"with indices from \",min(test_1),\"to\",max(test_1))\n",
    "print()\n",
    "print(\"train_2 has\",len(train_2),\"with indices from \",min(train_2),\"to\",max(train_2))\n",
    "print(\"test_2 has\",len(test_2),\"with indices from \",min(test_2),\"to\",max(test_2))\n",
    "print()\n",
    "print(\"train_3 has\",len(train_3),\"with indices from \",min(train_3),\"to\",max(train_3))\n",
    "print(\"test_3 has\",len(test_3),\"with indices from \",min(test_3),\"to\",max(test_3))\n",
    "print()\n",
    "print(\"train_4 has\",len(train_4),\"with indices from \",min(train_4),\"to\",max(train_4))\n",
    "print(\"test_4 has\",len(test_4),\"with indices from \",min(test_4),\"to\",max(test_4))"
   ]
  },
  {
   "cell_type": "markdown",
   "id": "0bf6f806",
   "metadata": {},
   "source": [
    "# Model Building"
   ]
  },
  {
   "cell_type": "code",
   "execution_count": 18,
   "id": "9f22d910",
   "metadata": {},
   "outputs": [],
   "source": [
    "model = XGBClassifier(objective='binary:logistic', n_estimators=1000, random_state=2025)"
   ]
  },
  {
   "cell_type": "code",
   "execution_count": 19,
   "id": "5b6c8965",
   "metadata": {},
   "outputs": [
    {
     "name": "stdout",
     "output_type": "stream",
     "text": [
      "Mean model.n_estimators = 1000.0\n"
     ]
    },
    {
     "data": {
      "text/plain": [
       "(np.float64(0.5033395176252318), np.float64(0.026870303510547925))"
      ]
     },
     "execution_count": 19,
     "metadata": {},
     "output_type": "execute_result"
    }
   ],
   "source": [
    "def evaluate(model, X, y, cv, model_prop=None, model_step=None):\n",
    "    cv_results = cross_validate(\n",
    "        model,\n",
    "        X,\n",
    "        y,\n",
    "        cv=cv,\n",
    "        scoring=[\"accuracy\"],\n",
    "        return_estimator=model_prop is not None,\n",
    "    )\n",
    "    if model_prop is not None:\n",
    "        if model_step is not None:\n",
    "            values = [\n",
    "                getattr(m[model_step], model_prop) for m in cv_results[\"estimator\"]\n",
    "            ]\n",
    "        else:\n",
    "            values = [getattr(m, model_prop) for m in cv_results[\"estimator\"]]\n",
    "        print(f\"Mean model.{model_prop} = {np.mean(values)}\")\n",
    "    accuracy = -cv_results[\"test_accuracy\"]\n",
    "\n",
    "    # print used in earlier testing\n",
    "    # print(\n",
    "    #    f\"Mean Accuracy:     {-accuracy.mean():.3f} +/- {accuracy.std():.3f}\\n\"\n",
    "    # )\n",
    "    return (-accuracy.mean(), accuracy.std())\n",
    "    \n",
    "evaluate(model, X, y, cv=tscv, model_prop=\"n_estimators\")"
   ]
  },
  {
   "cell_type": "code",
   "execution_count": 20,
   "id": "8f7e064a",
   "metadata": {},
   "outputs": [
    {
     "name": "stdout",
     "output_type": "stream",
     "text": [
      "Mean model.n_estimators = 1000.0\n",
      "Mean Accuracy:     0.503 +/- 0.027\n",
      "\n"
     ]
    }
   ],
   "source": [
    "# print results from evaluate\n",
    "accuracyMean, accuracyStd = evaluate(model, X, y, cv=tscv, model_prop=\"n_estimators\")\n",
    "print(\n",
    "        f\"Mean Accuracy:     {accuracyMean:.3f} +/- {accuracyStd:.3f}\\n\"\n",
    "     )"
   ]
  },
  {
   "cell_type": "code",
   "execution_count": 21,
   "id": "d29a5e7f",
   "metadata": {},
   "outputs": [
    {
     "name": "stdout",
     "output_type": "stream",
     "text": [
      "Best parameters: {'learning_rate': np.float64(0.036101940702134155), 'max_depth': 9, 'min_child_weight': 5, 'n_estimators': 190, 'subsample': np.float64(0.5619252689499326)}\n",
      "Best score: 0.5109461966604824\n"
     ]
    }
   ],
   "source": [
    "# Randomized search to find the best set of hyperparameters\n",
    "\n",
    "param_dist = {\n",
    "    'max_depth': randint(3, 10),\n",
    "    'min_child_weight': randint(1, 10),\n",
    "    'subsample': uniform(0.5, 1),\n",
    "    'learning_rate': uniform(0.01, 0.1),\n",
    "    'n_estimators': randint(100, 1000),\n",
    "}\n",
    "xgb_model = xgb.XGBClassifier(objective='binary:logistic', use_label_encoder=False, eval_metric='logloss', random_state=2025)\n",
    "\n",
    "random_search = RandomizedSearchCV(\n",
    "    estimator=xgb_model,\n",
    "    param_distributions=param_dist,\n",
    "    n_iter=100, # Number of parameter settings that are sampled.\n",
    "    scoring='accuracy',\n",
    "    cv = TimeSeriesSplit(gap=10, n_splits=5),\n",
    "    random_state=2025,\n",
    "    n_jobs=-1 # Use all available cores\n",
    ")\n",
    "\n",
    "random_search.fit(X, y)\n",
    "\n",
    "print(\"Best parameters:\", random_search.best_params_)\n",
    "print(\"Best score:\", random_search.best_score_)"
   ]
  },
  {
   "cell_type": "markdown",
   "id": "290f5a22",
   "metadata": {},
   "source": [
    "# Evaluation"
   ]
  },
  {
   "cell_type": "code",
   "execution_count": 25,
   "id": "610dfd10",
   "metadata": {},
   "outputs": [
    {
     "data": {
      "text/plain": [
       "<sklearn.metrics._plot.roc_curve.RocCurveDisplay at 0x21efcd78410>"
      ]
     },
     "execution_count": 25,
     "metadata": {},
     "output_type": "execute_result"
    },
    {
     "data": {
      "image/png": "[encoded data removed]",
      "text/plain": [
       "<Figure size 640x480 with 1 Axes>"
      ]
     },
     "metadata": {},
     "output_type": "display_data"
    }
   ],
   "source": [
    "# final model evaluation\n",
    "finalModel = XGBClassifier(objective='binary:logistic', eval_metric='logloss', random_state=2025,\n",
    "                          max_depth = 9, min_child_weight = 5, subsample = 0.50, learning_rate = 0.03, n_estimators = 190)\n",
    "\n",
    "finalModel.fit(X, y)\n",
    "ypred = finalModel.predict(X)\n",
    "RocCurveDisplay.from_predictions(y, ypred)                    "
   ]
  },
  {
   "cell_type": "code",
   "execution_count": 26,
   "id": "624eb586",
   "metadata": {},
   "outputs": [
    {
     "name": "stdout",
     "output_type": "stream",
     "text": [
      "Confusion Matrix\n",
      "[[2583  546]\n",
      " [ 369 2971]]\n"
     ]
    },
    {
     "data": {
      "image/png": "[encoded data removed]",
      "text/plain": [
       "<Figure size 640x480 with 2 Axes>"
      ]
     },
     "metadata": {},
     "output_type": "display_data"
    }
   ],
   "source": [
    "print(\"Confusion Matrix\")\n",
    "print(confusion_matrix(y, ypred))\n",
    "disp = ConfusionMatrixDisplay.from_predictions(y, ypred,\n",
    "                              display_labels =[\"Negative Return\",\"Positive Return\"],\n",
    "                                              cmap = plt.cm.Blues)\n",
    "plt.title(\"Confusion Matrix for Returns\")\n",
    "plt.xlabel(\"Predicted Return\")\n",
    "plt.ylabel(\"Actual Return\")\n",
    "plt.tight_layout()\n",
    "plt.show()                              "
   ]
  },
  {
   "cell_type": "code",
   "execution_count": 27,
   "id": "e086dde6",
   "metadata": {},
   "outputs": [
    {
     "name": "stdout",
     "output_type": "stream",
     "text": [
      "              precision    recall  f1-score   support\n",
      "\n",
      "           0       0.88      0.83      0.85      3129\n",
      "           1       0.84      0.89      0.87      3340\n",
      "\n",
      "   micro avg       0.86      0.86      0.86      6469\n",
      "   macro avg       0.86      0.86      0.86      6469\n",
      "weighted avg       0.86      0.86      0.86      6469\n",
      "\n"
     ]
    }
   ],
   "source": [
    "print(classification_report(y, ypred, labels = [\"0\",\"1\"]))"
   ]
  }
 ],
 "metadata": {
  "kernelspec": {
   "display_name": ".venv",
   "language": "python",
   "name": "python3"
  },
  "language_info": {
   "codemirror_mode": {
    "name": "ipython",
    "version": 3
   },
   "file_extension": ".py",
   "mimetype": "text/x-python",
   "name": "python",
   "nbconvert_exporter": "python",
   "pygments_lexer": "ipython3",
   "version": "3.12.10"
  }
 },
 "nbformat": 4,
 "nbformat_minor": 5
}
